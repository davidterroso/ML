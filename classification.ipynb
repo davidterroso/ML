{
 "cells": [
  {
   "cell_type": "markdown",
   "metadata": {},
   "source": [
    "# Classification"
   ]
  },
  {
   "cell_type": "markdown",
   "metadata": {},
   "source": [
    "*Classification* is a supervised machine learning method where the model attempts to correctly attribute a *label* to a given input data. It learns by looking at examples with labels, and attempting to understand the relation between the label and the *features*, which are the independent variables."
   ]
  },
  {
   "cell_type": "markdown",
   "metadata": {},
   "source": [
    "## Table of Contents\n",
    "\n",
    "* [Logistic Regression](#logistic-regression)\n",
    "* [Decision Tree](#decision-tree)\n",
    "* [Random Forest](#random-forest)\n",
    "* [Support Vector Machine (SVM)](#support-vector-machine)\n",
    "* [Naive-Bayes](#naive-bayes)\n",
    "* [K-Nearest Neighbouts (KNN)](#k-nearest-neighbours)"
   ]
  },
  {
   "cell_type": "markdown",
   "metadata": {},
   "source": [
    "## Logistic Regression <a id=\"logistic-regression\"></a>"
   ]
  },
  {
   "cell_type": "markdown",
   "metadata": {},
   "source": [
    "Despite being named *Logistic Regression*, this algorithm is used in the classification task, and is the first model that will be tackled in this chapter. To explain what the Logistic Regression is, it makes sense to define the *Logistic Function*. This function takes as input any real number, for example *t*, and outputs a value between 0 and 1. The inputs of this function are regularly called *logits* and the output corresponds to the probability. The standard logistic regression is then defined as:\n",
    "\n",
    "$$ \\sigma (t) = \\frac{e^{t}}{e^{t} + 1} = \\frac{1}{1 + e^{-t}}$$"
   ]
  },
  {
   "cell_type": "code",
   "execution_count": 16,
   "metadata": {},
   "outputs": [
    {
     "data": {
      "image/png": "[encoded data removed]",
      "text/plain": [
       "<Figure size 640x480 with 1 Axes>"
      ]
     },
     "metadata": {},
     "output_type": "display_data"
    }
   ],
   "source": [
    "import numpy as np\n",
    "import matplotlib.pyplot as plt\n",
    "\n",
    "t = np.linspace(-6, 6, 100)\n",
    "sigma = 1 / (1 + np.exp(-t))\n",
    "\n",
    "y_intercept = 1 / (1 + np.exp(0))\n",
    "\n",
    "plt.plot(t, sigma)\n",
    "plt.scatter(0, y_intercept, color=\"red\", zorder=3)\n",
    "plt.text(0.2, y_intercept, f\"(0, {y_intercept:.2f})\", fontsize=12, color=\"black\", verticalalignment=\"bottom\")\n",
    "plt.grid(True)\n",
    "ax = plt.gca()\n",
    "ax.spines[\"left\"].set_position(\"center\")\n",
    "plt.show()"
   ]
  },
  {
   "cell_type": "markdown",
   "metadata": {},
   "source": [
    "As shown in the code above, this function intercepts the $y$ axis at 0.50. $t$ can be defined by a function, for example, $t = \\theta_{0} + \\theta_{1}x$, allowing us to rewrite the logistic equation as:\n",
    "\n",
    "$$ p(x) = \\sigma (t) = \\frac{1}{1 + e^{-(\\theta_{0} + \\theta_{1}x)}} $$\n",
    "\n",
    "In this context, $p(x)$ corresponds to the probability that an independent variable $y$ belongs to the label one (see label one as the opposite of the label zero, like true and false, respectively) and this equation will be further explained below. However, $t$ does not need to be characterized by two parameters and can be described by a $n$ number of features, so that:\n",
    "\n",
    "$$\n",
    "X =\n",
    "\\begin{bmatrix}\n",
    "    x_{11} & \\dots  &  x_{1m} \\\\\n",
    "    x_{21} & \\dots  &  x_{2m} \\\\\n",
    "    \\vdots & \\ddots & \\vdots  \\\\\n",
    "    x_{n1} & \\dots  &  x_{nm} \\\\\n",
    "\\end{bmatrix}\n",
    "$$\n",
    "\n",
    "Therefore, $Y$ can also be described as:\n",
    "\n",
    "$$ \n",
    "Y =\n",
    "\\left\\{\n",
    "    \\begin {aligned}\n",
    "         & 0 \\quad \\text{if Class 0}  \\\\\n",
    "         & 1 \\quad \\text{if Class 1}  \\\\\n",
    "    \\end{aligned}\n",
    "\\right.\n",
    "$$\n",
    "\n",
    "The function $t$ can now be rewritten as:\n",
    "\n",
    "$$\n",
    "t = \\sum_{i=1}^{n} w_{i}x_{i} + b\n",
    "$$\n",
    "\n",
    "when $w = [w_{1}, w_{2}, ..., w_{n}]$ is the array that contains the weights of the coefficients and $b$ is the bias of the equation. One can go further and rewrite X as the following, where $w_{0} = b$:\n",
    "$$\n",
    "    X =\n",
    "    \\begin{bmatrix}\n",
    "           1   &    1   &    1    \\\\\n",
    "        x_{11} & \\dots  &  x_{1m} \\\\\n",
    "        x_{21} & \\dots  &  x_{2m} \\\\\n",
    "        \\vdots & \\ddots & \\vdots  \\\\\n",
    "        x_{n1} & \\dots  &  x_{nm} \\\\\n",
    "    \\end{bmatrix} \\text{and }\n",
    "    w = [w_{0}, w_{1}, w_{2}, ..., w_{n}]\n",
    "$$\n",
    "Simplifying $t$ to:\n",
    "$$\n",
    "    t = w \\cdot X\n",
    "$$\n",
    "\n",
    "Lastly, consider $P(y=1) = \\sigma(t)$ and $P(y=0) = 1 - \\sigma(t)$.\n",
    "\n",
    "Logits is the inverse of the logistic equation expression so that:\n",
    "\n",
    "$$ \\text{logit}p = \\sigma^{-1}(p) $$\n",
    "\n",
    "To find what $\\sigma^{-1}(p)$, we must solve the following for $x$:\n",
    "\n",
    "$$ \n",
    "\\sigma(x) = p \\\\\n",
    "\\Leftrightarrow p = \\frac{1}{1+e^{-x}} \\\\\n",
    "\\Leftrightarrow p + pe^{-x} = 1 \\\\\n",
    "\\Leftrightarrow pe^{-x} = 1 - p \\\\\n",
    "\\Leftrightarrow e^{-x} = \\frac{1 - p}{p} \\\\\n",
    "\\Leftrightarrow e^{x} = \\frac{p}{1 - p} \\\\\n",
    "\\Leftrightarrow x = ln\\left(\\frac{p}{1 - p}\\right) \\\\\n",
    "$$\n",
    "\n",
    "Then:\n",
    "$$ \\text{logit}p = \\sigma^{-1}(p) = ln\\left(\\frac{p}{1 - p}\\right) = t(x) $$\n",
    "\n",
    "From which we can elaborate:\n",
    "\n",
    "$$\n",
    "ln\\left(\\frac{p}{1 - p}\\right) = wX \\\\\n",
    "\\Leftrightarrow \\frac{p}{1 - p} = e^{wX} \\\\\n",
    "\\Leftrightarrow p = e^{wX}(1 - p) \\\\\n",
    "\\Leftrightarrow p + pe^{wX} = e^{wX} \\\\\n",
    "\\Leftrightarrow p (1 + e^{wX}) = e^{wX} \\\\\n",
    "\\Leftrightarrow p = \\frac{e^{wX}}{1 + e^{wX}} \\\\\n",
    "\\Leftrightarrow p = \\frac{1}{1 + e^{-wX}} \\\\\n",
    "\\Leftrightarrow p(w, X) = \\frac{1}{1 + e^{-wX}} \\\\\n",
    "$$\n",
    "\n",
    "The usual measure of a good fit in logistic regression is the logistic loss, also known as the negative log-likelihood. As written above, for a given value $x_{i}$ and $y_{i}$, $p_{i} = p(x_{i})$ corresponds to the probability that the values $x_{i}$ correspond to $y_{i} = 1$. On the contrary, the probability that the same values of $x_{i}$ correspond to $y_{i} = 0$ is $1 - p(x_{i})$. The log loss can be described, for a point $i$, as:\n",
    "\n",
    "$$\n",
    "\\ell_{i} = \n",
    "\\left\\{\n",
    "    \\begin{aligned}\n",
    "         & -\\text{ln}(p_{i})     \\quad & \\text{if $y_{1} = 1$}  \\\\\n",
    "         & -\\text{ln}(1 - p_{i}) \\quad & \\text{if $y_{1} = 0$}  \\\\\n",
    "    \\end{aligned}\n",
    "\\right.\n",
    "$$\n",
    "\n",
    "One common way to interpret the log loss is as the surprise of the outcome $y_{i}$ for the predicted probability $p_{i}$. Log loss varies from 0 to infinity: it is zero when a perfect prediction is made ($p_{i} - y_{k} = 0$) and tends to infinity in the opposite case ($p_{i} - y_{k} = \\pm 1$). The log loss can be combined in one single expression as presented below:\n",
    "\n",
    "$$\n",
    "\\ell_{i} = -y_{i}\\text{ln}(p_{i}) - (1 - y_{i})\\text{ln}(1 - p_{i})\n",
    "$$\n",
    "\n",
    "The sum of the log loss for for every $i$ value is the overall negative log-likelihood $-\\ell$ and the best fit for $w$ is when $-\\ell$ is minimized. Alternatively, instead of minimizing the loss, one can maximize its inverse, the log-likelihood:\n",
    "\n",
    "$$\n",
    "\\ell_{i} = \\sum_{i:y_{i}=1} \\text{ln}(p_{i}) + \\sum_{i:y_{i}=0} \\text{ln}(1 - p_{i}) = \\sum_{i=1} y_{i}\\text{ln}(p_{i}) + (1 - y_{i})\\text{ln}(1 - p_{i})\n",
    "$$\n",
    "\n",
    "Similarly, it is possible to maximize the likelihood function itself, which corresponds to the probability of the outcome given a set of data, $L$:\n",
    "$$\n",
    "L = e^{\\sum_{i=1} y_{i}\\text{ln}(p_{i}) + (1 - y_{i})\\text{ln}(1 - p_{i})} =\\\\\n",
    "= \\Pi_{i=1}^{n} e^{y_{i}\\text{ln}(p_{i})} \\cdot e^{(1 - y_{i})\\text{ln}(p_{i})} =\\\\\n",
    "= \\Pi_{i=1}^{n} p_{i}^{y_{i}} \\cdot (1 - p_{i})^{1 - y_{i}} \\\\\n",
    "\n",
    "\\therefore \\\\\n",
    "\n",
    "L = \\Pi_{i:y_{i}=1}(p_{i}) \\Pi_{i:y_{i}=0}(1 - p_{i})\n",
    "$$\n",
    "\n",
    "This method is also known as maximum likelihood estimation. \n",
    "\n",
    "Unlike Linear Regression, Logistic Regression does not have a closed-form equation that allows us to obtain the best set of $\\theta$ values. Fortunately, log-loss is a convex function, which means that with a low enough learning rate and patience, it is guaranteed to reach the global minimum, using Gradient Descent or any other optimization algorithm. Now, let's derive the log-loss and maximum likelihood functions to get a grasp of what is necessary to attain the optimal set of $\\theta$. Starting with the log-loss and including the division by the total number of data points:\n",
    "\n",
    "$$\n",
    "J(\\theta) = -\\frac{1}{m} \\sum_{i=1} \\left[ y_{i}\\text{ln}(p_{i}) + (1 - y_{i})\\text{ln}(1 - p_{i}) \\right]\\\\\n",
    "\\Leftrightarrow J(\\theta) = \\sum_{i=1} \\left[ y_{i}\\text{ln}(\\sigma (\\theta^{T} \\text{x}^{(i)})) + (1 - y_{i})\\text{ln}(1 - \\sigma (\\theta^{T} \\text{x}^{(i)})) \\right]\\\\\n",
    "$$\n",
    "\n",
    "Deriving, we get:\n",
    "\n",
    "$$\n",
    "\\frac{\\partial}{\\partial \\theta_{j}} J(\\theta) =  - \\frac{1}{m} \\sum^{m}_{i=1} \\left( \\frac{\\partial}{\\partial \\theta_{j}} y^{(i)}(\\text{ln}(\\sigma(\\theta^{T}\\text{x}))) \\right) \\left( \\frac{\\partial}{\\partial \\theta_{j}} (1 - y^{(i)})(\\text{ln}(1 - \\sigma(\\theta^{T}\\text{x}))) \\right)\\\\\n",
    "$$\n",
    "\n",
    "Let's begin by calculating the derivative of the left part:\n",
    "\n",
    "$$\n",
    "\\frac{\\partial}{\\partial \\theta_{j}} \\left( y^{(i)}(\\text{ln}(\\sigma(\\theta^{T}\\text{x}))) \\right) =\\\\\n",
    "= \\frac{\\partial}{\\partial \\theta_{j}} \\left( y^{(i)}\\text{ln}\\left(\\frac{e^{\\theta^{T}\\text{x}}}{e^{\\theta^{T}\\text{x}} + 1} \\right) \\right) =\\\\\n",
    "= \\frac{\\partial}{\\partial \\theta_{j}} \\left( -y^{(i)}\\text{ln}\\left(\\frac{e^{\\theta^{T}\\text{x}} + 1}{e^{\\theta^{T}\\text{x}}} \\right) \\right) =\\\\\n",
    "= \\frac{\\partial}{\\partial \\theta_{j}} \\left( -y^{(i)}\\text{ln}\\left(1 + e^{-\\theta^{T}\\text{x}} \\right) \\right) =\\\\\n",
    "= - \\frac{1}{e^{-\\theta^{T}\\text{x}} + 1} \\times \\frac{\\partial}{\\partial \\theta_{j}} (e^{-\\theta^{T}\\text{x}} + 1)=\\\\\n",
    "= x_{j}^{(i)} \\frac{e^{-\\theta^{T}\\text{x}}}{e^{-\\theta^{T}\\text{x}} + 1}=\\\\\n",
    "= x_{j}^{(i)} \\sigma (-\\theta^{T} \\text{x})=\\\\\n",
    "= x_{j}^{(i)} \\frac{1}{1 + e^{\\theta^{T}\\text{x}}}=\\\\\n",
    "= x_{j}^{(i)} \\frac{e^{\\theta^{T}\\text{x}} - e^{\\theta^{T}\\text{x}} + 1}{1 + e^{\\theta^{T}\\text{x}}}=\\\\\n",
    "= x_{j}^{(i)} \\frac{e^{\\theta^{T}\\text{x}} + 1}{e^{\\theta^{T}\\text{x}} + 1} - \\frac{e^{\\theta^{T}\\text{x}}}{e^{\\theta^{T}\\text{x}} + 1}=\\\\\n",
    "= x_{j}^{(i)} \\left(1 - \\frac{e^{\\theta^{T}\\text{x}}}{e^{\\theta^{T}\\text{x}} + 1} \\right)=\\\\\n",
    "= x_{j}^{(i)} \\left(1 - \\sigma (\\theta^{T}\\text{x}) \\right)\n",
    "$$\n",
    "\n",
    "Now the derivative of the right part:\n",
    "$$\n",
    "\\frac{\\partial}{\\partial \\theta_{j}} \\text{ln}(1 - \\sigma(\\theta^{T}\\text{x})) =\\\\\n",
    "= \\frac{\\partial}{\\partial \\theta_{j}} \\text{ln}(1 - \\frac{e^{\\theta^{T}\\text{x}}}{e^{\\theta^{T}\\text{x}} + 1}) =\\\\\n",
    "= \\frac{\\partial}{\\partial \\theta_{j}} \\text{ln}\\left(1 - \\frac{1}{e^{-\\theta^{T}\\text{x}} + 1}\\right) =\\\\\n",
    "= \\frac{\\partial}{\\partial \\theta_{j}} \\text{ln}\\left(\\frac{1 - 1 + e^{-\\theta^{T}\\text{x}}}{e^{-\\theta^{T}\\text{x}} + 1}\\right) =\\\\\n",
    "= \\frac{\\partial}{\\partial \\theta_{j}} \\text{ln}\\left(\\frac{e^{-\\theta^{T}\\text{x}}}{e^{-\\theta^{T}\\text{x}} + 1}\\right) =\\\\\n",
    "= - \\frac{\\partial}{\\partial \\theta_{j}} \\text{ln}\\left(\\frac{1}{e^{-\\theta^{T}\\text{x}}} + 1\\right) =\\\\\n",
    "= - \\frac{\\partial}{\\partial \\theta_{j}} \\text{ln}\\left(e^{\\theta^{T}\\text{x}} + 1\\right) =\\\\\n",
    "= - \\left[\\frac{1}{e^{\\theta^{T}\\text{x}} + 1} \\times \\frac{\\partial}{\\partial \\theta_{j}} (e^{\\theta^{T}\\text{x}} + 1) \\right]=\\\\\n",
    "= - \\left[\\frac{1}{e^{\\theta^{T}\\text{x}} + 1} \\times x_{j}^{(i)} e^{\\theta^{T}\\text{x}} \\right]=\\\\\n",
    "= - \\frac{x_{j}^{(i)} e^{\\theta^{T}\\text{x}}}{e^{\\theta^{T}\\text{x}} + 1}=\\\\\n",
    "= - x_{j}^{(i)}\\sigma{(\\theta^{T}\\text{x})}\n",
    "$$\n",
    "\n",
    "Now plugging in both parts in the equation, we get:\n",
    "\n",
    "$$\n",
    "\\frac{\\partial}{\\partial \\theta_{j}} J(\\theta) =  - \\frac{1}{m} \\sum^{m}_{i=1} \\left[ \\left( x_{j}^{(i)} \\left(1 - \\sigma (\\theta^{T}\\text{x}) \\right) \\right) \\left(- x_{j}^{(i)}\\sigma{(\\theta^{T}\\text{x})} \\right) \\right]\\\\\n",
    "\\Leftrightarrow \\frac{\\partial}{\\partial \\theta_{j}} J(\\theta) =  - \\frac{1}{m} \\sum^{m}_{i=1} \\left[ y^{(i)} x^{(i)}_{j} - y^{(i)} x^{(i)}_{j} \\sigma (\\theta^{T}\\text{x}) - x_{j}^{(i)} \\sigma(\\theta^{T}\\text{x}) + y^{(i)} x^{(i)}_{j} \\sigma (\\theta^{T}\\text{x}) \\right]\\\\\n",
    "\\Leftrightarrow \\frac{\\partial}{\\partial \\theta_{j}} J(\\theta) = - \\frac{1}{m} \\sum^{m}_{i=1} \\left[ y^{(i)} x^{(i)}_{j} - x_{j}^{(i)} \\sigma(\\theta^{T}\\text{x}) \\right]\\\\\n",
    "\\Leftrightarrow \\frac{\\partial}{\\partial \\theta_{j}} J(\\theta) = \\frac{1}{m} \\sum^{m}_{i=1} \\left[ x^{(i)}_{j} (\\sigma(\\theta^{T}\\text{x}) - y^{(i)}) \\right]\\\\\n",
    "$$\n",
    "\n",
    "Therefore, the partial derivative of the log-loss function with respect to $\\theta$ for a feature $\\theta_{j}$ is given by the expression above.\n"
   ]
  },
  {
   "cell_type": "markdown",
   "metadata": {},
   "source": [
    "## Decision Tree <a id=\"decision-tree\"></a>"
   ]
  },
  {
   "cell_type": "markdown",
   "metadata": {},
   "source": [
    "## Random Forest <a id=\"random-forest\"></a>"
   ]
  },
  {
   "cell_type": "markdown",
   "metadata": {},
   "source": [
    "## Support Vector Machine (SVM) <a id=\"support-vector-machine\"></a>"
   ]
  },
  {
   "cell_type": "markdown",
   "metadata": {},
   "source": [
    "## Naive-Bayes <a id=\"naive-bayes\"></a>"
   ]
  },
  {
   "cell_type": "markdown",
   "metadata": {},
   "source": [
    "## K-Nearest Neighbours (KNN) <a id=\"k-nearest-neighbours\"></a>"
   ]
  }
 ],
 "metadata": {
  "kernelspec": {
   "display_name": "Python 3",
   "language": "python",
   "name": "python3"
  },
  "language_info": {
   "codemirror_mode": {
    "name": "ipython",
    "version": 3
   },
   "file_extension": ".py",
   "mimetype": "text/x-python",
   "name": "python",
   "nbconvert_exporter": "python",
   "pygments_lexer": "ipython3",
   "version": "3.11.5"
  }
 },
 "nbformat": 4,
 "nbformat_minor": 2
}
